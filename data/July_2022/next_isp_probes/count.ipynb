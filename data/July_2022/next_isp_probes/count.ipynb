{
 "cells": [
  {
   "cell_type": "code",
   "execution_count": 1,
   "id": "74416702-0a14-47bc-8a14-ddbe3ea27408",
   "metadata": {},
   "outputs": [],
   "source": [
    "import json"
   ]
  },
  {
   "cell_type": "code",
   "execution_count": 2,
   "id": "7f792eb8-064a-418a-90d0-336a6d34072f",
   "metadata": {},
   "outputs": [
    {
     "name": "stdout",
     "output_type": "stream",
     "text": [
      "351\n"
     ]
    }
   ],
   "source": [
    "with open(\"isp_probes_and_resolvers.json\") as f:\n",
    "    resolvers = json.load(fp=f)\n",
    "    \n",
    "print(len(resolvers))"
   ]
  },
  {
   "cell_type": "code",
   "execution_count": null,
   "id": "562a546d-6e05-449e-abc4-9d76ae472fa6",
   "metadata": {},
   "outputs": [],
   "source": []
  }
 ],
 "metadata": {
  "kernelspec": {
   "display_name": "Python 3 (ipykernel)",
   "language": "python",
   "name": "python3"
  },
  "language_info": {
   "codemirror_mode": {
    "name": "ipython",
    "version": 3
   },
   "file_extension": ".py",
   "mimetype": "text/x-python",
   "name": "python",
   "nbconvert_exporter": "python",
   "pygments_lexer": "ipython3",
   "version": "3.9.10"
  }
 },
 "nbformat": 4,
 "nbformat_minor": 5
}
