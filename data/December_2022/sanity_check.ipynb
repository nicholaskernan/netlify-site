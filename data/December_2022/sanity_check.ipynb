{
 "cells": [
  {
   "cell_type": "code",
   "execution_count": 1,
   "id": "3145a7b2-fe30-4b8d-8b86-851e381598d0",
   "metadata": {},
   "outputs": [],
   "source": [
    "import json"
   ]
  },
  {
   "cell_type": "code",
   "execution_count": 16,
   "id": "bf55629f-d43b-4a7a-b47f-e1154e7fa500",
   "metadata": {},
   "outputs": [
    {
     "data": {
      "text/plain": [
       "{'akamai': ['www.afpw.af.mil.edgekey.net.',\n",
       "  'www.mfa.gr.edgesuite.net.',\n",
       "  'cdn.prod.www.manager-magazin.de.edgesuite.net.',\n",
       "  'c-s.cms.ms.akadns.net.',\n",
       "  'www1.wdr.de.v1.edgekey.net.',\n",
       "  'cdn4.thumbrio.edgekey.net.',\n",
       "  'www.geeksforgeeks.org.edgesuite.net.',\n",
       "  'www.nobelpeaceprize.org.edgesuite.net.',\n",
       "  'azureedge.mdc.akamaized.net.',\n",
       "  'ion.cloudinary.com.edgekey.net.'],\n",
       " 'fastly': ['media.amazon.map.fastly.net.',\n",
       "  's4-cloudinary-pin.map.fastly.net.',\n",
       "  'www-gov-uk.map.fastly.net.',\n",
       "  'dualstack.j.sni.global.fastly.net.',\n",
       "  'pantheon-systems.map.fastly.net.'],\n",
       " 'edgecast': ['scdn1.wpc.81638.systemcdn.net.',\n",
       "  'scdn1.wpc.2bb44.systemcdn.net.',\n",
       "  'scdn1aef6.wpc.c2b63.systemcdn.net.',\n",
       "  'cs510.wpc.edgecastcdn.net.',\n",
       "  'cs340.wpc.edgecastcdn.net.'],\n",
       " 'cloudflare': ['ou-resources.sdsu.edu.cdn.cloudflare.net.',\n",
       "  'www.ucsf.edu.cdn.cloudflare.net.',\n",
       "  'www.edx.org.cdn.cloudflare.net.',\n",
       "  'www.unhcr.org.cdn.cloudflare.net.',\n",
       "  'www.propublica.org.cdn.cloudflare.net.']}"
      ]
     },
     "execution_count": 16,
     "metadata": {},
     "output_type": "execute_result"
    }
   ],
   "source": [
    "with open(\"../websites.json\") as f:\n",
    "    websites = json.load(fp=f)\n",
    "websites"
   ]
  },
  {
   "cell_type": "code",
   "execution_count": 19,
   "id": "2fbd1fb6-f042-4198-89ba-d5c9151e59d2",
   "metadata": {},
   "outputs": [
    {
     "name": "stdout",
     "output_type": "stream",
     "text": [
      "www.afpw.af.mil.edgekey.net. {'Total SSL': 9801, 'Target SSL': 12240, 'Success rate': 0.8007352941176471}\n",
      "www.mfa.gr.edgesuite.net. {'Total SSL': 9945, 'Target SSL': 12240, 'Success rate': 0.8125}\n",
      "cdn.prod.www.manager-magazin.de.edgesuite.net. {'Total SSL': 10041, 'Target SSL': 12240, 'Success rate': 0.8203431372549019}\n",
      "c-s.cms.ms.akadns.net. {'Total SSL': 9735, 'Target SSL': 12240, 'Success rate': 0.7953431372549019}\n",
      "www1.wdr.de.v1.edgekey.net. {'Total SSL': 9798, 'Target SSL': 12240, 'Success rate': 0.8004901960784314}\n",
      "cdn4.thumbrio.edgekey.net. {'Total SSL': 9816, 'Target SSL': 12240, 'Success rate': 0.8019607843137255}\n",
      "www.geeksforgeeks.org.edgesuite.net. {'Total SSL': 10047, 'Target SSL': 12240, 'Success rate': 0.8208333333333333}\n",
      "azureedge.mdc.akamaized.net. {'Total SSL': 9861, 'Target SSL': 12240, 'Success rate': 0.8056372549019608}\n",
      "ion.cloudinary.com.edgekey.net. {'Total SSL': 9993, 'Target SSL': 12240, 'Success rate': 0.816421568627451}\n",
      "\n",
      "media.amazon.map.fastly.net. {'Total SSL': 9744, 'Target SSL': 12240, 'Success rate': 0.796078431372549}\n",
      "[Errno 2] No such file or directory: 'msm_ids/stats/s4-cloudinary-pin.map.fastly.net..json'\n",
      "[Errno 2] No such file or directory: 'msm_ids/stats/www-gov-uk.map.fastly.net..json'\n",
      "[Errno 2] No such file or directory: 'msm_ids/stats/dualstack.j.sni.global.fastly.net..json'\n",
      "[Errno 2] No such file or directory: 'msm_ids/stats/pantheon-systems.map.fastly.net..json'\n",
      "\n",
      "scdn1.wpc.81638.systemcdn.net. {'Total SSL': 9693, 'Target SSL': 12240, 'Success rate': 0.7919117647058823}\n",
      "scdn1.wpc.2bb44.systemcdn.net. {'Total SSL': 9642, 'Target SSL': 12240, 'Success rate': 0.7877450980392157}\n",
      "scdn1aef6.wpc.c2b63.systemcdn.net. {'Total SSL': 9444, 'Target SSL': 12240, 'Success rate': 0.7715686274509804}\n",
      "cs510.wpc.edgecastcdn.net. {'Total SSL': 9765, 'Target SSL': 12240, 'Success rate': 0.7977941176470589}\n",
      "cs340.wpc.edgecastcdn.net. {'Total SSL': 10002, 'Target SSL': 12240, 'Success rate': 0.817156862745098}\n",
      "\n",
      "ou-resources.sdsu.edu.cdn.cloudflare.net. {'Total SSL': 9927, 'Target SSL': 12240, 'Success rate': 0.8110294117647059}\n",
      "www.ucsf.edu.cdn.cloudflare.net. {'Total SSL': 9951, 'Target SSL': 12240, 'Success rate': 0.8129901960784314}\n",
      "www.edx.org.cdn.cloudflare.net. {'Total SSL': 9798, 'Target SSL': 12240, 'Success rate': 0.8004901960784314}\n",
      "www.unhcr.org.cdn.cloudflare.net. {'Total SSL': 9981, 'Target SSL': 12240, 'Success rate': 0.8154411764705882}\n",
      "www.propublica.org.cdn.cloudflare.net. {'Total SSL': 9642, 'Target SSL': 12240, 'Success rate': 0.7877450980392157}\n",
      "\n"
     ]
    }
   ],
   "source": [
    "delete = []\n",
    "for cdn in websites:\n",
    "    for web in websites[cdn]:\n",
    "        if 'nobel' in web:\n",
    "            continue\n",
    "        try:\n",
    "            with open(f\"msm_ids/stats/{web}.json\") as f:\n",
    "                stats = json.load(fp=f)\n",
    "                print(web, stats)\n",
    "                if stats['Total SSL'] < 9000:\n",
    "                    delete.append(web)\n",
    "        except FileNotFoundError as e:\n",
    "            print(e)\n",
    "    print()"
   ]
  },
  {
   "cell_type": "code",
   "execution_count": 10,
   "id": "d7dcbcab-68bd-4640-9916-9363fa035335",
   "metadata": {},
   "outputs": [
    {
     "data": {
      "text/plain": [
       "['s4-cloudinary-pin.map.fastly.net.',\n",
       " 'www-gov-uk.map.fastly.net.',\n",
       " 'dualstack.j.sni.global.fastly.net.',\n",
       " 'pantheon-systems.map.fastly.net.']"
      ]
     },
     "execution_count": 10,
     "metadata": {},
     "output_type": "execute_result"
    }
   ],
   "source": [
    "delete"
   ]
  },
  {
   "cell_type": "code",
   "execution_count": 13,
   "id": "1f35af62-acf4-4485-bde6-6bfb2360bb18",
   "metadata": {},
   "outputs": [
    {
     "data": {
      "text/plain": [
       "'/Users/nicholaskernan/projects/github_dns_project/DNS_ResearchProject/recurring_measurement/December_2022'"
      ]
     },
     "execution_count": 13,
     "metadata": {},
     "output_type": "execute_result"
    }
   ],
   "source": [
    "pwd"
   ]
  },
  {
   "cell_type": "code",
   "execution_count": 15,
   "id": "1b3eb2d0-c590-4aa1-8626-bf9ef568924b",
   "metadata": {},
   "outputs": [],
   "source": [
    "import os \n",
    "for web in delete:\n",
    "    for folder in ['dns', 'ssl', 'stats']:\n",
    "        os.remove(f'msm_ids/{folder}/{web}.json')"
   ]
  },
  {
   "cell_type": "code",
   "execution_count": 48,
   "id": "2a9944f0-3b41-497e-8bfe-0ea8662d3ed8",
   "metadata": {},
   "outputs": [],
   "source": [
    "from ripe.atlas.cousteau import Probe, AtlasResultsRequest\n",
    "from datetime import datetime"
   ]
  },
  {
   "cell_type": "code",
   "execution_count": 53,
   "id": "516c3b72-43a4-4288-9f47-5ddf09d6073f",
   "metadata": {},
   "outputs": [],
   "source": [
    "def handle_dns_set(dns_set):\n",
    "    for i, dns_id in enumerate(dns_set):\n",
    "        kwargs = {\n",
    "                \"msm_id\": dns_id,\n",
    "            }\n",
    "        is_success, results = AtlasResultsRequest(**kwargs).create()\n",
    "        #print(results)\n",
    "        \n",
    "        date = datetime.fromtimestamp(results[0][\"timestamp\"])\n",
    "        #print(results[0][\"timestamp\"])\n",
    "        #print(date)\n",
    "        print(date.month)"
   ]
  },
  {
   "cell_type": "code",
   "execution_count": 54,
   "id": "57f017e7-cebe-494a-952d-37a3327e872f",
   "metadata": {},
   "outputs": [
    {
     "name": "stdout",
     "output_type": "stream",
     "text": [
      "12\n",
      "12\n",
      "12\n",
      "12\n"
     ]
    }
   ],
   "source": [
    "handle_dns_set([47340532, 47340535, 47340536, 47340537])"
   ]
  },
  {
   "cell_type": "code",
   "execution_count": 61,
   "id": "f9343f09-ec75-4542-88bc-4e0b81d819a0",
   "metadata": {},
   "outputs": [
    {
     "name": "stdout",
     "output_type": "stream",
     "text": [
      "www.afpw.af.mil.edgekey.net. [47340538, 47340565, 47340605]\n",
      "12\n",
      "12\n",
      "12\n",
      "www.mfa.gr.edgesuite.net. [47398917, 47398948, 47398991]\n",
      "12\n",
      "12\n",
      "12\n",
      "cdn.prod.www.manager-magazin.de.edgesuite.net. [47374819, 47374841, 47374887]\n",
      "12\n",
      "12\n",
      "12\n",
      "c-s.cms.ms.akadns.net. [47317936, 47317960, 47318000]\n",
      "12\n",
      "12\n",
      "12\n",
      "www1.wdr.de.v1.edgekey.net. [47386946, 47386984, 47387023]\n",
      "12\n",
      "12\n",
      "12\n",
      "cdn4.thumbrio.edgekey.net. [47329032, 47329042, 47329062]\n",
      "12\n",
      "12\n",
      "12\n",
      "www.geeksforgeeks.org.edgesuite.net. [47351846, 47351867, 47351895]\n",
      "12\n",
      "12\n",
      "12\n",
      "azureedge.mdc.akamaized.net. [47306604, 47306624, 47306664]\n",
      "12\n",
      "12\n",
      "12\n",
      "ion.cloudinary.com.edgekey.net. [47363598, 47363618, 47363635]\n",
      "12\n",
      "12\n",
      "12\n",
      "\n",
      "[Errno 2] No such file or directory: 'msm_ids/ssl/s4-cloudinary-pin.map.fastly.net..json'\n",
      "[Errno 2] No such file or directory: 'msm_ids/ssl/www-gov-uk.map.fastly.net..json'\n",
      "[Errno 2] No such file or directory: 'msm_ids/ssl/dualstack.j.sni.global.fastly.net..json'\n",
      "[Errno 2] No such file or directory: 'msm_ids/ssl/pantheon-systems.map.fastly.net..json'\n",
      "\n",
      "scdn1.wpc.81638.systemcdn.net. [47422010, 47422060, 47422102]\n",
      "12\n",
      "12\n",
      "12\n",
      "scdn1.wpc.2bb44.systemcdn.net. [47433509, 47433550, 47433594]\n",
      "12\n",
      "12\n",
      "12\n",
      "scdn1aef6.wpc.c2b63.systemcdn.net. [47445022, 47445038, 47445059]\n",
      "12\n",
      "12\n",
      "12\n",
      "cs510.wpc.edgecastcdn.net. [47455760, 47455802, 47455846]\n",
      "12\n",
      "12\n",
      "12\n",
      "cs340.wpc.edgecastcdn.net. [47467171, 47467200, 47467242]\n",
      "12\n",
      "12\n",
      "12\n",
      "\n",
      "ou-resources.sdsu.edu.cdn.cloudflare.net. [47478903, 47478916, 47478944]\n",
      "12\n",
      "12\n",
      "12\n",
      "www.ucsf.edu.cdn.cloudflare.net. [47490966, 47490987, 47491029]\n",
      "12\n",
      "12\n",
      "12\n",
      "www.edx.org.cdn.cloudflare.net. [47502265, 47502298, 47502335]\n",
      "12\n",
      "12\n",
      "12\n",
      "www.unhcr.org.cdn.cloudflare.net. [47513942, 47513973, 47514014]\n",
      "12\n",
      "12\n",
      "12\n",
      "\n"
     ]
    }
   ],
   "source": [
    "for cdn in websites:\n",
    "    for web in websites[cdn]:\n",
    "        if 'nobel' in web:\n",
    "            continue\n",
    "        try:\n",
    "            with open(f\"msm_ids/ssl/{web}.json\") as f:\n",
    "                stats = json.load(fp=f)\n",
    "                for dns in stats:\n",
    "                    for probe in stats[dns]:\n",
    "                        print(web, stats[dns][probe])\n",
    "                        handle_dns_set(stats[dns][probe])\n",
    "                        break\n",
    "                    break\n",
    "                \n",
    "                #\n",
    "                #print(web, msm_set)\n",
    "                #handle_dns_set(msm_set)\n",
    "        except FileNotFoundError as e:\n",
    "            print(e)\n",
    "    print()"
   ]
  },
  {
   "cell_type": "code",
   "execution_count": null,
   "id": "6388bea1-5b04-4e87-bd6b-c44661e8b625",
   "metadata": {},
   "outputs": [],
   "source": []
  }
 ],
 "metadata": {
  "kernelspec": {
   "display_name": "Python 3 (ipykernel)",
   "language": "python",
   "name": "python3"
  },
  "language_info": {
   "codemirror_mode": {
    "name": "ipython",
    "version": 3
   },
   "file_extension": ".py",
   "mimetype": "text/x-python",
   "name": "python",
   "nbconvert_exporter": "python",
   "pygments_lexer": "ipython3",
   "version": "3.9.10"
  }
 },
 "nbformat": 4,
 "nbformat_minor": 5
}
